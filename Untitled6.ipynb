{
 "cells": [
  {
   "cell_type": "code",
   "execution_count": 1,
   "metadata": {},
   "outputs": [],
   "source": [
    "import numpy as np\n",
    "import pandas as pd\n",
    "import matplotlib.pyplot as plt\n",
    "%matplotlib inline\n",
    "import seaborn as sns"
   ]
  },
  {
   "cell_type": "code",
   "execution_count": 2,
   "metadata": {},
   "outputs": [],
   "source": [
    "df=pd.read_csv('D:\\\\Dataset\\\\browser_rankings_data.csv')"
   ]
  },
  {
   "cell_type": "code",
   "execution_count": 3,
   "metadata": {
    "scrolled": true
   },
   "outputs": [
    {
     "data": {
      "text/html": [
       "<div>\n",
       "<style scoped>\n",
       "    .dataframe tbody tr th:only-of-type {\n",
       "        vertical-align: middle;\n",
       "    }\n",
       "\n",
       "    .dataframe tbody tr th {\n",
       "        vertical-align: top;\n",
       "    }\n",
       "\n",
       "    .dataframe thead th {\n",
       "        text-align: right;\n",
       "    }\n",
       "</style>\n",
       "<table border=\"1\" class=\"dataframe\">\n",
       "  <thead>\n",
       "    <tr style=\"text-align: right;\">\n",
       "      <th></th>\n",
       "      <th>browser_rankings</th>\n",
       "      <th>Unnamed: 1</th>\n",
       "      <th>Unnamed: 2</th>\n",
       "      <th>Unnamed: 3</th>\n",
       "      <th>Unnamed: 4</th>\n",
       "      <th>Unnamed: 5</th>\n",
       "      <th>Unnamed: 6</th>\n",
       "      <th>Unnamed: 7</th>\n",
       "      <th>Unnamed: 8</th>\n",
       "      <th>Unnamed: 9</th>\n",
       "    </tr>\n",
       "  </thead>\n",
       "  <tbody>\n",
       "    <tr>\n",
       "      <th>0</th>\n",
       "      <td>ID</td>\n",
       "      <td>Keyword</td>\n",
       "      <td>Rank</td>\n",
       "      <td>Country</td>\n",
       "      <td>Language</td>\n",
       "      <td>Date</td>\n",
       "      <td>App ID</td>\n",
       "      <td>Date of Last Description Change</td>\n",
       "      <td>Short Description</td>\n",
       "      <td>Long Description</td>\n",
       "    </tr>\n",
       "    <tr>\n",
       "      <th>1</th>\n",
       "      <td>1</td>\n",
       "      <td>browser</td>\n",
       "      <td>2</td>\n",
       "      <td>in</td>\n",
       "      <td>en</td>\n",
       "      <td>16-12-2020</td>\n",
       "      <td>net.fast.web.browser</td>\n",
       "      <td>18-12-2020</td>\n",
       "      <td>The small, fastest, secure Web Browser, best m...</td>\n",
       "      <td>One of the smallest, fastest, secure Web Brows...</td>\n",
       "    </tr>\n",
       "    <tr>\n",
       "      <th>2</th>\n",
       "      <td>2</td>\n",
       "      <td>browser</td>\n",
       "      <td>3</td>\n",
       "      <td>in</td>\n",
       "      <td>en</td>\n",
       "      <td>16-12-2020</td>\n",
       "      <td>com.android.chrome</td>\n",
       "      <td>18-12-2020</td>\n",
       "      <td>Fast, simple, and secure. Google Chrome browse...</td>\n",
       "      <td>Google Chrome is a fast, easy to use, and secu...</td>\n",
       "    </tr>\n",
       "    <tr>\n",
       "      <th>3</th>\n",
       "      <td>3</td>\n",
       "      <td>browser</td>\n",
       "      <td>4</td>\n",
       "      <td>in</td>\n",
       "      <td>en</td>\n",
       "      <td>16-12-2020</td>\n",
       "      <td>com.opera.browser</td>\n",
       "      <td>27-02-2021</td>\n",
       "      <td>Fast, safe web browser: free VPN, Ad blocker, ...</td>\n",
       "      <td>Fast, safe and private, introducing the latest...</td>\n",
       "    </tr>\n",
       "    <tr>\n",
       "      <th>4</th>\n",
       "      <td>3</td>\n",
       "      <td>browser</td>\n",
       "      <td>4</td>\n",
       "      <td>in</td>\n",
       "      <td>en</td>\n",
       "      <td>16-12-2020</td>\n",
       "      <td>com.opera.browser</td>\n",
       "      <td>18-12-2020</td>\n",
       "      <td>Fast, safe web browser: free VPN, Ad blocker, ...</td>\n",
       "      <td>Opera is a fast, safe web browser for your And...</td>\n",
       "    </tr>\n",
       "  </tbody>\n",
       "</table>\n",
       "</div>"
      ],
      "text/plain": [
       "  browser_rankings Unnamed: 1 Unnamed: 2 Unnamed: 3 Unnamed: 4  Unnamed: 5  \\\n",
       "0               ID    Keyword       Rank    Country   Language        Date   \n",
       "1                1    browser          2         in         en  16-12-2020   \n",
       "2                2    browser          3         in         en  16-12-2020   \n",
       "3                3    browser          4         in         en  16-12-2020   \n",
       "4                3    browser          4         in         en  16-12-2020   \n",
       "\n",
       "             Unnamed: 6                       Unnamed: 7  \\\n",
       "0                App ID  Date of Last Description Change   \n",
       "1  net.fast.web.browser                       18-12-2020   \n",
       "2    com.android.chrome                       18-12-2020   \n",
       "3     com.opera.browser                       27-02-2021   \n",
       "4     com.opera.browser                       18-12-2020   \n",
       "\n",
       "                                          Unnamed: 8  \\\n",
       "0                                  Short Description   \n",
       "1  The small, fastest, secure Web Browser, best m...   \n",
       "2  Fast, simple, and secure. Google Chrome browse...   \n",
       "3  Fast, safe web browser: free VPN, Ad blocker, ...   \n",
       "4  Fast, safe web browser: free VPN, Ad blocker, ...   \n",
       "\n",
       "                                          Unnamed: 9  \n",
       "0                                   Long Description  \n",
       "1  One of the smallest, fastest, secure Web Brows...  \n",
       "2  Google Chrome is a fast, easy to use, and secu...  \n",
       "3  Fast, safe and private, introducing the latest...  \n",
       "4  Opera is a fast, safe web browser for your And...  "
      ]
     },
     "execution_count": 3,
     "metadata": {},
     "output_type": "execute_result"
    }
   ],
   "source": [
    "df.head()"
   ]
  },
  {
   "cell_type": "code",
   "execution_count": 4,
   "metadata": {},
   "outputs": [
    {
     "data": {
      "text/plain": [
       "(3067, 10)"
      ]
     },
     "execution_count": 4,
     "metadata": {},
     "output_type": "execute_result"
    }
   ],
   "source": [
    "df.shape"
   ]
  },
  {
   "cell_type": "code",
   "execution_count": 5,
   "metadata": {},
   "outputs": [],
   "source": [
    "df=df.rename(columns=df.iloc[0]).drop(df.index[0])"
   ]
  },
  {
   "cell_type": "code",
   "execution_count": 6,
   "metadata": {},
   "outputs": [
    {
     "data": {
      "text/plain": [
       "ID                                  0\n",
       "Keyword                             0\n",
       "Rank                               16\n",
       "Country                             0\n",
       "Language                            0\n",
       "Date                                0\n",
       "App ID                              0\n",
       "Date of Last Description Change     0\n",
       "Short Description                   0\n",
       "Long Description                    0\n",
       "dtype: int64"
      ]
     },
     "execution_count": 6,
     "metadata": {},
     "output_type": "execute_result"
    }
   ],
   "source": [
    "df.isna().sum()"
   ]
  },
  {
   "cell_type": "code",
   "execution_count": 7,
   "metadata": {},
   "outputs": [
    {
     "data": {
      "text/html": [
       "<div>\n",
       "<style scoped>\n",
       "    .dataframe tbody tr th:only-of-type {\n",
       "        vertical-align: middle;\n",
       "    }\n",
       "\n",
       "    .dataframe tbody tr th {\n",
       "        vertical-align: top;\n",
       "    }\n",
       "\n",
       "    .dataframe thead th {\n",
       "        text-align: right;\n",
       "    }\n",
       "</style>\n",
       "<table border=\"1\" class=\"dataframe\">\n",
       "  <thead>\n",
       "    <tr style=\"text-align: right;\">\n",
       "      <th></th>\n",
       "      <th>ID</th>\n",
       "      <th>Keyword</th>\n",
       "      <th>Rank</th>\n",
       "      <th>Country</th>\n",
       "      <th>Language</th>\n",
       "      <th>Date</th>\n",
       "      <th>App ID</th>\n",
       "      <th>Date of Last Description Change</th>\n",
       "      <th>Short Description</th>\n",
       "      <th>Long Description</th>\n",
       "    </tr>\n",
       "  </thead>\n",
       "  <tbody>\n",
       "    <tr>\n",
       "      <th>1</th>\n",
       "      <td>1</td>\n",
       "      <td>browser</td>\n",
       "      <td>2</td>\n",
       "      <td>in</td>\n",
       "      <td>en</td>\n",
       "      <td>16-12-2020</td>\n",
       "      <td>net.fast.web.browser</td>\n",
       "      <td>18-12-2020</td>\n",
       "      <td>The small, fastest, secure Web Browser, best m...</td>\n",
       "      <td>One of the smallest, fastest, secure Web Brows...</td>\n",
       "    </tr>\n",
       "    <tr>\n",
       "      <th>2</th>\n",
       "      <td>2</td>\n",
       "      <td>browser</td>\n",
       "      <td>3</td>\n",
       "      <td>in</td>\n",
       "      <td>en</td>\n",
       "      <td>16-12-2020</td>\n",
       "      <td>com.android.chrome</td>\n",
       "      <td>18-12-2020</td>\n",
       "      <td>Fast, simple, and secure. Google Chrome browse...</td>\n",
       "      <td>Google Chrome is a fast, easy to use, and secu...</td>\n",
       "    </tr>\n",
       "    <tr>\n",
       "      <th>3</th>\n",
       "      <td>3</td>\n",
       "      <td>browser</td>\n",
       "      <td>4</td>\n",
       "      <td>in</td>\n",
       "      <td>en</td>\n",
       "      <td>16-12-2020</td>\n",
       "      <td>com.opera.browser</td>\n",
       "      <td>27-02-2021</td>\n",
       "      <td>Fast, safe web browser: free VPN, Ad blocker, ...</td>\n",
       "      <td>Fast, safe and private, introducing the latest...</td>\n",
       "    </tr>\n",
       "    <tr>\n",
       "      <th>4</th>\n",
       "      <td>3</td>\n",
       "      <td>browser</td>\n",
       "      <td>4</td>\n",
       "      <td>in</td>\n",
       "      <td>en</td>\n",
       "      <td>16-12-2020</td>\n",
       "      <td>com.opera.browser</td>\n",
       "      <td>18-12-2020</td>\n",
       "      <td>Fast, safe web browser: free VPN, Ad blocker, ...</td>\n",
       "      <td>Opera is a fast, safe web browser for your And...</td>\n",
       "    </tr>\n",
       "    <tr>\n",
       "      <th>5</th>\n",
       "      <td>4</td>\n",
       "      <td>browser</td>\n",
       "      <td>1</td>\n",
       "      <td>in</td>\n",
       "      <td>en</td>\n",
       "      <td>16-12-2020</td>\n",
       "      <td>com.cloudmosa.puffinTV</td>\n",
       "      <td>07-02-2021</td>\n",
       "      <td>Puffin TV Browser - One App to Watch All Video...</td>\n",
       "      <td>Puffin TV Browser is a special edition of Puff...</td>\n",
       "    </tr>\n",
       "  </tbody>\n",
       "</table>\n",
       "</div>"
      ],
      "text/plain": [
       "  ID  Keyword Rank Country Language        Date                  App ID  \\\n",
       "1  1  browser    2      in       en  16-12-2020    net.fast.web.browser   \n",
       "2  2  browser    3      in       en  16-12-2020      com.android.chrome   \n",
       "3  3  browser    4      in       en  16-12-2020       com.opera.browser   \n",
       "4  3  browser    4      in       en  16-12-2020       com.opera.browser   \n",
       "5  4  browser    1      in       en  16-12-2020  com.cloudmosa.puffinTV   \n",
       "\n",
       "  Date of Last Description Change  \\\n",
       "1                      18-12-2020   \n",
       "2                      18-12-2020   \n",
       "3                      27-02-2021   \n",
       "4                      18-12-2020   \n",
       "5                      07-02-2021   \n",
       "\n",
       "                                   Short Description  \\\n",
       "1  The small, fastest, secure Web Browser, best m...   \n",
       "2  Fast, simple, and secure. Google Chrome browse...   \n",
       "3  Fast, safe web browser: free VPN, Ad blocker, ...   \n",
       "4  Fast, safe web browser: free VPN, Ad blocker, ...   \n",
       "5  Puffin TV Browser - One App to Watch All Video...   \n",
       "\n",
       "                                    Long Description  \n",
       "1  One of the smallest, fastest, secure Web Brows...  \n",
       "2  Google Chrome is a fast, easy to use, and secu...  \n",
       "3  Fast, safe and private, introducing the latest...  \n",
       "4  Opera is a fast, safe web browser for your And...  \n",
       "5  Puffin TV Browser is a special edition of Puff...  "
      ]
     },
     "execution_count": 7,
     "metadata": {},
     "output_type": "execute_result"
    }
   ],
   "source": [
    "df.head()"
   ]
  },
  {
   "cell_type": "code",
   "execution_count": 8,
   "metadata": {},
   "outputs": [
    {
     "data": {
      "text/plain": [
       "array(['2', '3', '4', '1', '11', '8', '5', '14', '96', '34', '89', '17',\n",
       "       '43', '22', '6', '33', '10', '23', '46', '13', '31', '100', '84',\n",
       "       nan, '9', '76', '40', '38', '20', '134', '39', '65', '58', '12',\n",
       "       '16', '59', '15', '52', '27', '78', '7', '51', '26', '75', '62',\n",
       "       '45', '57', '24', '85', '44', '67', '42', '90', '18', '63', '55',\n",
       "       '109', '81', '66', '47', '28', '79', '93', '71', '19', '48', '111',\n",
       "       '69', '60', '37', '70', '68', '21', '64', '29', '80', '25', '92',\n",
       "       '73', '53', '36', '94', '61', '77', '86', '107', '32', '83', '106',\n",
       "       '87', '105', '110', '104', '98', '82', '95', '30', '97', '99',\n",
       "       '88', '72', '41', '50', '54', '101', '112', '35', '114', '91',\n",
       "       '102', '119', '108', '103', '117', '113', '56', '74', '118', '116',\n",
       "       '115'], dtype=object)"
      ]
     },
     "execution_count": 8,
     "metadata": {},
     "output_type": "execute_result"
    }
   ],
   "source": [
    "df['Rank'].unique()"
   ]
  },
  {
   "cell_type": "code",
   "execution_count": 27,
   "metadata": {},
   "outputs": [],
   "source": [
    "df['Rank']=df['Rank'].str.replace('','')\n",
    "df['Rank']=df['Rank'].fillna(0)\n"
   ]
  },
  {
   "cell_type": "code",
   "execution_count": 31,
   "metadata": {},
   "outputs": [],
   "source": [
    "df['Rank']=df['Rank'].astype(int)"
   ]
  },
  {
   "cell_type": "code",
   "execution_count": 36,
   "metadata": {},
   "outputs": [
    {
     "data": {
      "text/plain": [
       "array([  2,   3,   4,   1,  11,   8,   5,  14,  96,  34,  89,  17,  43,\n",
       "        22,   6,  33,  10,  23,  46,  13,  31, 100,  84,   0,   9,  76,\n",
       "        40,  38,  20, 134,  39,  65,  58,  12,  16,  59,  15,  52,  27,\n",
       "        78,   7,  51,  26,  75,  62,  45,  57,  24,  85,  44,  67,  42,\n",
       "        90,  18,  63,  55, 109,  81,  66,  47,  28,  79,  93,  71,  19,\n",
       "        48, 111,  69,  60,  37,  70,  68,  21,  64,  29,  80,  25,  92,\n",
       "        73,  53,  36,  94,  61,  77,  86, 107,  32,  83, 106,  87, 105,\n",
       "       110, 104,  98,  82,  95,  30,  97,  99,  88,  72,  41,  50,  54,\n",
       "       101, 112,  35, 114,  91, 102, 119, 108, 103, 117, 113,  56,  74,\n",
       "       118, 116, 115])"
      ]
     },
     "execution_count": 36,
     "metadata": {},
     "output_type": "execute_result"
    }
   ],
   "source": [
    "df['Rank'].unique()"
   ]
  },
  {
   "cell_type": "code",
   "execution_count": 40,
   "metadata": {},
   "outputs": [
    {
     "data": {
      "text/plain": [
       "count    3066.000000\n",
       "mean       15.076647\n",
       "std        24.229604\n",
       "min         0.000000\n",
       "25%         2.000000\n",
       "50%         5.000000\n",
       "75%        15.000000\n",
       "max       134.000000\n",
       "Name: Rank, dtype: float64"
      ]
     },
     "execution_count": 40,
     "metadata": {},
     "output_type": "execute_result"
    }
   ],
   "source": [
    "df['Rank'].describe()"
   ]
  },
  {
   "cell_type": "code",
   "execution_count": 41,
   "metadata": {},
   "outputs": [
    {
     "data": {
      "text/plain": [
       "array(['The small, fastest, secure Web Browser, best mobile browser, fast search Google.',\n",
       "       'Fast, simple, and secure. Google Chrome browser for Android phones and tablets.',\n",
       "       'Fast, safe web browser: free VPN, Ad blocker, QR-code reader &amp; personalized news',\n",
       "       'Puffin TV Browser - One App to Watch All Videos on the Web',\n",
       "       'Puffin TV Browser - One App to Watch All Videos on the Web.',\n",
       "       'Free, safe internet browser! Private browsing, search engine &amp; pop-up blocker.',\n",
       "       'Fast &amp; private web browser with ad blocker, sync, dark &amp; private mode.',\n",
       "       'Browse the web privately, search anonymously, and escape ad trackers.',\n",
       "       'Funny video, Football &amp; celebrity news, Fast &amp; data-saving browser.'],\n",
       "      dtype=object)"
      ]
     },
     "execution_count": 41,
     "metadata": {},
     "output_type": "execute_result"
    }
   ],
   "source": [
    "df['Short Description'].unique()"
   ]
  },
  {
   "cell_type": "code",
   "execution_count": 42,
   "metadata": {},
   "outputs": [
    {
     "data": {
      "text/plain": [
       "array([\"One of the smallest, fastest, secure Web Browser; \\r\\nIt is specifically designed for mobile phones and tablet, brings you an amazing Premium web experience.\\r\\n\\r\\nIt is based off the Android WebKit Engine.\\r\\n\\r\\nKey Features:\\r\\n- Tabbed Internet Browsing\\r\\n- Incognito Mode. Private browse the web without saving any browser history.\\r\\n- Supports Adobe Flash Player \\r\\n- The fastest Start Times: View web pages quicker on your phone\\r\\n- Block Ads\\r\\n- Homepage: Add favorite links to your homepage with a single click and access sites easily from your mobile desktop;\\r\\n- Bookmarks\\r\\n- History\\r\\n- Find in Page\\r\\n- Super easy copy/paste\\r\\n- Small Footprint\\r\\n- Full-screen mode\\r\\n- Quick search: most popular default search engines\\r\\n- User Agent settings\\r\\n- Advanced Gesture feature\\r\\n- Sharing - Super-easy and intuitive ways to share mobile contents through social media channels.\\r\\n- Advanced Settings\\r\\n- Uses the Native JavaScript and WebKit Engine so file size is smaller\\r\\n- Custom download location\\r\\n\\r\\nIt is a high-performance small-sized Internet browser built for those who don't want the cumbersome size of other Browser. \\r\\nWeb Browser with the latest security and privacy features to help you stay safe on the internet.\\r\\nWe wish you can have the best web surfing experience for using Web Browser.\",\n",
       "       'Google Chrome is a fast, easy to use, and secure web browser. Designed for Android, Chrome brings you personalized news articles, quick links to your favorite sites, downloads, and Google Search and Google Translate built-in. Download now to enjoy the same Chrome web browser experience you love across all your devices.\\r\\n        \\r\\n        Browse fast and type less. Choose from personalized search results that instantly appear as you type and quickly browse previously visited web pages. Fill in forms quickly with Autofill.\\r\\n        \\r\\n        Incognito Browsing. Use Incognito mode to browse the internet without saving your history. Browse privately across all your devices.\\r\\n        \\r\\n        Sync Chrome Across Devices. When you sign into Chrome, your bookmarks, passwords, and settings will be automatically synced across all your devices. You can seamlessly access all your information from your phone, tablet, or laptop.\\r\\n        \\r\\n        All your favorite content, one tap away. Chrome is not just fast for Google Search, but designed so you are one tap away from all your favorite content. You can tap on your favorite news sites or social media directly from the new tab page. Chrome also has the “Tap to Search”- feature on most webpages. You can tap on any word or phrase to start a Google search while still in the page you are enjoying.\\r\\n        \\r\\n        Protect your phone with Google Safe Browsing. Chrome has Google Safe Browsing built-in. It keeps your phone safe by showing warnings to you when you attempt to navigate to dangerous sites or download dangerous files.\\r\\n        \\r\\n        Fast downloads and view web pages and videos offline Chrome has a dedicated download button, so you can easily download videos, pictures, and entire webpages with just one tap. Chrome also has downloads home right inside Chrome, where you can access all the content you downloaded, even when you are offline.\\r\\n        \\r\\n        Google Voice Search. Chrome gives you an actual web browser you can talk to. Use your voice to find answers on-the-go without typing and go hands free. You can browse and navigate quicker using your voice anywhere, anytime.\\r\\n        \\r\\n        Google Translate built-in: Quickly translate entire web pages. Chrome has Google Translate built in to help you to translate entire web to your own language with one tap.\\r\\n        \\r\\n        Use less mobile data and speed up the web. Turn on Lite mode and use up to 60% less data. Chrome can compress text, images, videos, and websites without lowering the quality.\\r\\n        \\r\\n        Smart personalized recommendations. Chrome creates an experience that is tailored to your interests.  On the new tab page, you will find articles that Chrome selected based on your previous browsing history.',\n",
       "       'Fast, safe and private, introducing the latest version of the Opera web browser made to make your life easier online. Featuring a built-in Ad Blocker and Free VPN with a clean and user-friendly design letting you get more done online, in less time. Download now and join over 350 million fans across the world using Opera.\\r\\n\\r\\n Ad blocker for safe & fast browsing \\r\\nOpera’s native ad blocker effectively helps you get rid of thousands of intrusive ads and loads your pages faster to streamline your browsing experience. Now, we have added the option to eliminate a vast majority of annoying cookie and privacy dialogs also. \\r\\n\\r\\nFree built-in VPN \\r\\nImprove your privacy and security on public networks with our built-in browser VPN. The unlimited and free VPN lets you avoid sharing your location and identity, staying anonymous and safe online. You can also switch to different virtual locations if needed for extra browser security. \\r\\n\\r\\nPrivate browser \\r\\nUse private tabs to go incognito anywhere on the Internet without leaving a trace on your device. Easily switch between normal and private browsing in the tab gallery.\\r\\n\\r\\nSave data and time\\r\\nOn a slow connection? Or want to save data? Switch to data saver mode to load pages faster than ever on slow networks. Powered by our famous compression technology, the Opera browser works hard to save up to of your data without breaking your browsing experience.\\r\\n\\r\\nPersonalized news feed \\r\\nPowered by our smartest AI news engine, the rebooted news feed allows you to swipe through a selection of personalized news channels within the browser, subscribe to your favorite topics, and save stories to read later.\\r\\n\\r\\nNight mode\\r\\nOpera’s night mode provides you adjustable lighting options to get the most comfortable reading experience in the dark and the least eye strain. Night mode is easily accessible from the main menu. \\r\\n\\r\\nManage your passwords and autofill credit cards\\r\\nOpt in for automatic saving of passwords site by site and safely autofill your payment information for safe and private online shopping. \\r\\n\\r\\nRead comfortably on any screen: \\r\\nThe Opera browser includes a text size setting which helps you adapt pages according to your reading preferences. More importantly, it works perfectly together with our automatic text wrap feature for an unparalleled reading experience.\\r\\n\\r\\nFlow - seamlessly connects all your devices: \\r\\nThe popular Flow feature lets the files, links or images that you share immediately appear on all your Flow-enabled devices, allowing you to seamlessly switch between your iPhone, Android phone, tablet and computer. Sync all your Opera accounts across Devices as well! \\r\\n\\r\\nAbout Opera\\r\\nFounded 1995 in Norway on the idea that everyone should be able to browse the web, we have spent the last +25 years helping millions of people access the internet in a safe, private and innovative way. We care about the internet, about open standards, and about people. \\r\\n\\r\\nTerms & Conditions:\\r\\nBy downloading this application, you are agreeing to the End User Licence Agreement at https://www.opera.com/eula/mobile.',\n",
       "       'Opera is a fast, safe web browser for your Android device, featuring a rebooted news feed, built-in Ad blocker, free VPN and a QR & Barcode scanner. \\r\\n\\r\\n\\r\\n★ Top features ★ \\r\\n\\r\\n● Free, unlimited and built-in VPN: \\r\\n\\r\\nImprove your privacy and security with our built-in and free VPN. Turn on Opera VPN in the setting and your IP address will be replaced with a virtual one to help you avoid unintended location and identification information sharing. You can also switch to different virtual locations.\\r\\n\\r\\n● Block ads for faster browsing: \\r\\n\\r\\nOpera’s native ad blocker effectively helps you get rid of intrusive ads and loads your pages faster to streamline your browsing experience.  Now, we have added the option to eliminate a vast majority of annoying cookie and privacy dialogs. \\r\\n\\r\\n● Flow - seamlessly connects all your devices:\\xa0\\r\\n\\r\\nThe popular Flow feature lets the files, links or images that you share immediately appear on all your Flow-enabled devices, allowing you to seamlessly switch between your iPhone, Android phone, tablet and computer.\\r\\n\\r\\n● Built-in QR & Barcode scanner: \\r\\n\\r\\nEasily access the built-in QR & barcode scanner. Simply tap the search bar and the scanner is available on the right side. Point the camera at any QR-code/barcode, and it will be scanned automatically.\\r\\n\\r\\n● Personalized news feed: \\r\\n\\r\\nPowered by our smartest AI news engine, the rebooted news feed allows you to swipe through a selection of personalized news channels within the browser, subscribe to your favorite topics, and save stories to read later.\\r\\n\\r\\n● Night mode:\\r\\n\\r\\nOpera’s night mode provides you adjustable lighting options to get the most comfortable reading experience in the dark and the least eye strain. Night mode is easily accessible from the main menu. \\r\\n\\r\\n● Manage passwords and autofill credit cards:\\r\\n\\r\\nOpt in for automatic saving of passwords site by site and safely autofill your payment information for online shopping. \\r\\n\\r\\n● Private browsing: \\r\\n\\r\\nUse private tabs to go incognito anywhere on the Internet without leaving a trace on your device. Easily switch between private and normal browsing in the tab gallery.\\r\\n\\r\\n● Read comfortably on any screen: \\r\\n\\r\\nThe Opera browser includes a text size setting which helps you adapt pages according to your reading preferences. More importantly, it works perfectly together with our automatic text wrap feature for an unparalleled reading experience.\\r\\n\\r\\n● Manage downloads easily: \\r\\n\\r\\nOur new download manager makes downloading files easier and faster than ever! You can easily sort and share each downloaded item, delete them from your phone or remove them from your list of downloads with a quick swipe to the right or left side.  We even support background downloading when you have a download running but need to open another application!\\r\\n\\r\\n● Home screen shortcuts:\\r\\n\\r\\nAvailable on Android versions 7.1 or later, Opera offers fast access from the home screen to search, open a new private tab or scan QR codes. To create your own home screen shortcut, long tap on the Opera icon in your device’s home screen and tap your desired function. \\r\\n\\r\\n● Sync your Opera devices: \\r\\n\\r\\nGive yourself access to all your bookmarks, Speed Dial shortcuts and open tabs from your other devices with Opera. Opera on Android can now easily sync with the Opera browser for computers.\\r\\n\\r\\n● Browser startup options:\\r\\n\\r\\nEveryone is individual, so we let you choose whether to always open the browser with a new tab or to continue browsing where you left off, and to choose to close or preserve your open tabs when you exit the browser.\\r\\n\\r\\nOpera may show ads from Facebook. To learn more, see: https://m.facebook.com/ads/ad_choices\\r\\n\\r\\nTerms & Conditions:\\r\\nBy downloading this application, you are agreeing to the End User Licence Agreement at https://www.opera.com/eula/mobile. Also, you can learn how Opera handles and protects your data in our Privacy Statement at https://www.opera.com/privacy.',\n",
       "       'Puffin TV Browser is a special edition of Puffin Web Browser optimized for the Android TV. For light users, it is absolutely free. For heavy users, it requires subscription through In-App-Purchase.\\r\\n\\r\\nPC users can watch all videos from the web browser on their PC. Why do we need to install one video app for each video channel on Android TV? What if we can have a web browser optimized for the Android TV?\\r\\n\\r\\nPuffin TV Browser removes the traditional web browser UI for a fully immersed Android TV experience. Furthermore, Puffin TV Chabot allows users to interact with their Puffin TV via Facebook Messenger.\\r\\n\\r\\n☆ Incredible page load and rendering speed\\r\\n☆ Optimized video playback\\r\\n☆ Intuitive app navigation design\\r\\n☆ Sharing pages to Puffin TV Browser from any devices\\r\\n☆ Full web experience\\r\\n☆ Fastest JavaScript engine\\r\\n\\r\\n===== In-app purchase =====\\r\\n* The service is provided with limited free usage quota everyday.\\r\\n* Users can pay for unlimited usage quota with in-app purchase.\\r\\n\\r\\n===== Limitations =====\\r\\n* The data centers of Puffin are in the US and the cloud servers can only access public web sites from US geolocations.\\r\\n* For users outside the US, local contents, especially videos of local interest, may not be accessible from the US due to geo-restrictions in their home countries.\\r\\n* Puffin is blocked in some countries (e.g., China, Saudi Arabia, United Arab Emirates) and by some schools (e.g., in United States).',\n",
       "       'Puffin TV Browser is a special edition of Puffin Web Browser optimized for the Android TV. For light users, it is absolutely free. For heavy users, it requires IAP.\\r\\n\\r\\nWhy we need to install one video app for each video channel on Android TV? PC users can watch all videos from any web browser on their PC. What if we can have a web browser optimized for the Android TV?\\r\\n\\r\\nPuffin TV Browser removes the traditional web browser UI for a fully immersed Android TV experience. Puffin UI is kept as subtle and intuitive as possible. For example, Puffin TV automatically recommends most popular sites for users. It has never been easier to share a page from your smart phone to Puffin TV Browser.\\r\\n\\r\\nFurthermore, Puffin TV chatbot allows you to interact with your Puffin TV browser via Facebook Messenger easily. It is intuitive, minimalist, and highly functional.\\r\\n\\r\\n☆ Incredible page load and rendering speed\\r\\n☆ Optimized video playback\\r\\n☆ Intuitive app navigation design\\r\\n☆ Sharing pages to Puffin TV Browser from any devices\\r\\n☆ Full web experience\\r\\n☆ Fastest JavaScript engine\\r\\n\\r\\n===== In-app purchase =====\\r\\n* The service is provided with limited free usage quota everyday.\\r\\n* Users can pay for unlimited usage quota with in-app purchase.\\r\\n\\r\\n===== Limitations =====\\r\\n* The data centers of Puffin are in the US and the cloud servers can only access public web sites from US geolocations.\\r\\n* For users outside the US, local contents, especially videos of local interest, may not be accessible from the US due to geo-restrictions in their home countries.\\r\\n* Puffin is blocked in some countries (e.g., China, Saudi Arabia, United Arab Emirates) and by some schools (e.g., in United States).',\n",
       "       'Puffin TV Browser is a special edition of Puffin Web Browser optimized for the Android TV.\\r\\n\\r\\nWhy we need to install one video app for each video channel on Android TV? PC users can watch all videos from any web browser on their PC. What if we can have a web browser optimized for the Android TV?\\r\\n\\r\\nPuffin TV Browser removes the traditional web browser UI for a fully immersed Android TV experience. Puffin UI is kept as subtle and intuitive as possible. For example, Puffin TV automatically recommends most popular sites for users. It has never been easier to share a page from your smart phone to Puffin TV Browser.\\r\\n\\r\\nFurthermore, Puffin TV chatbot allows you to interact with your Puffin TV browser via Facebook Messenger easily. It is intuitive, minimalist, and highly functional.\\r\\n\\r\\n☆ Incredible page load and rendering speed\\r\\n☆ Optimized video playback\\r\\n☆ Intuitive app navigation design\\r\\n☆ Sharing pages to Puffin TV Browser from any devices\\r\\n☆ Full web experience\\r\\n☆ Fastest JavaScript engine\\r\\n\\r\\n===== In-app purchase =====\\r\\n* The service is provided with limited free usage everyday.\\r\\n* Users may choose to unlock limited access via in-app purchase.\\r\\n\\r\\n===== Limitations =====\\r\\n* The data centers of Puffin are in the US and the cloud servers can only access public web sites from US geolocations.\\r\\n* For users outside the US, local contents, especially videos of local interest, may not be accessible from the US due to geo-restrictions in their home countries.\\r\\n* Puffin is blocked in some countries (e.g., China, Saudi Arabia, United Arab Emirates) and by some schools (e.g., in United States).',\n",
       "       'Puffin TV Browser is a special edition of Puffin Web Browser optimized for the Android TV.\\r\\n\\r\\nWhy we need to install one video app for each video channel on Android TV? PC users can watch all videos from any web browser on their PC. What if we can have a web browser optimized for the Android TV?\\r\\n\\r\\nPuffin TV Browser removes the traditional web browser UI for a fully immersed Android TV experience. Puffin UI is kept as subtle and intuitive as possible. For example, Puffin TV automatically recommends most popular sites for users. It has never been easier to share a page from your smart phone to Puffin TV Browser.\\r\\n\\r\\n☆ Incredible page load and rendering speed\\r\\n☆ Optimized video playback\\r\\n☆ Intuitive app navigation design\\r\\n☆ Sharing pages to Puffin TV Browser from any devices\\r\\n☆ Full web experience\\r\\n☆ Fastest JavaScript engine\\r\\n\\r\\n===== In-app purchase =====\\r\\n* The service is provided with limited free usage everyday.\\r\\n* Users may choose to unlock limited access via in-app purchase.\\r\\n\\r\\n===== Limitations =====\\r\\n* The data centers of Puffin are in the US and the cloud servers can only access public web sites from US geolocations.\\r\\n* For users outside the US, local contents, especially videos of local interest, may not be accessible from the US due to geo-restrictions in their home countries.\\r\\n* Puffin is blocked in some countries (e.g., China, Saudi Arabia, United Arab Emirates) and by some schools (e.g., in United States).',\n",
       "       \"Privately browse the internet, for free! The Brave Private Browser App is your fast, free, and safe private web browser with ad blocker and pop-up blocker. Privately browse and search the internet without being tracked by advertisers, malware and pop-ups. \\r\\n\\r\\nDownload the best AdBlock privacy web browser app for Android today!\\r\\n\\r\\n🔒 Fast & Secure Web Browser\\r\\nNo external plugins or settings! Brave privacy browser simply provides the most secure, lightning fast web internet browser for Android. Enjoy free private browsing and a private search engine without popups (pop up blocker), ads (ad blocker), malware and other annoyances. \\r\\n\\r\\n🙈 Private Browsing App\\r\\nEnjoy fast, secure, private browsing. Get free adblocker to block ads, anonymous browsing history, personalized private search, and private tabs for private browsing.\\r\\n\\r\\n🚀 Browse Faster\\r\\nBrave is a fast web browser! Brave reduces page loading times, improves web browser performance and blocks ads infected with malware. Brave Privacy App shows a 2x to 4x speed increase on Android, saving your battery and data. \\r\\n\\r\\n🚫 AdBlock Web Browser\\r\\nThe Brave Private Browser App is designed with a free built-in AdBlocker (pop up blocker). Brave's free adBlocker protects you from ads which track you as you browse the mobile web, securing your privacy and private browsing history.  \\r\\n\\r\\n🙈 Automatic Privacy - AdBlock Browser Protection\\r\\nThe Brave Private Browser App also protects you with leading privacy and security features such as HTTPS Everywhere (encrypted data traffic), script blocking, 3rd party cookie blocking and incognito private tabs.\\r\\n\\r\\nApp Features\\r\\n* Free private internet browser\\r\\n* Free built-in AdBlocker\\r\\n* Private internet browser with pop up blocker (blocks ads)\\r\\n* Safe private browsing\\r\\n* Saves data and battery \\r\\n* Invasive Ad free web browser\\r\\n* Sync Bookmarks securely\\r\\n* Free tracking protection web browser\\r\\n* Https Everywhere (for security)\\r\\n* Script Blocker\\r\\n* 3rd party cookie blocker\\r\\n* Private bookmarks \\r\\n* Browsing history\\r\\n* Recent and private tabs\\r\\n* Fast, free, private search engine using DuckDuckGo\\r\\n\\r\\nBrave Rewards\\r\\nWith your old web browser, you paid to browse the internet by viewing ads. Now, Brave welcomes you to the new internet. One where your time is valued, your personal data is kept private, and you actually get paid for your attention.\\r\\n\\r\\nAbout Brave\\r\\nOur mission is to save the web by making a safe, private and fast browser while growing ad revenue for content creators. Brave aims to transform the online ad ecosystem with micropayments and a new revenue-sharing solution to give users and publishers a better deal, where safe, fast browsing is the path to a brighter future for an open web.\\r\\n\\r\\nTo learn more about the Brave Privacy Browser App, which has a built-in 3rd party Ad Block and pop up blocker, plus tracking and security protection, please go to www.brave.com\\r\\n\\r\\nQuestions/support?\\r\\nContact us at community.brave.com/c/support-and-troubleshooting/mobile-support. We love hearing from you.\\r\\n\\r\\nAre you enjoying our fast, private internet browser? Please leave us a 5 star review! \\r\\n\\r\\nDownload the best privacy browser for Android today!\",\n",
       "       'Vivaldi is a new private web browser with an integrated ad blocker, tracking protection, and useful built-in features. Browse with unique desktop-style tabs, end-to-end encrypted sync, dark & private mode. Download for free and browse fast, take notes in the browser, and capture full-length screenshots.\\r\\n\\r\\n⛔️ Block ads and trackers\\r\\nBlock ads and stop trackers from following you around the web to browse more privately and securely. Keep privacy ahead and say goodbye to annoying video ads, pop ups, and creepy trackers while browsing with Vivaldi.\\r\\n\\r\\nPlay with a flexible user interface\\r\\nGive your browser a look that\\'s uniquely yours with Vivaldi’s flexible user interface (UI). Browse with dark/light modes using new desktop-style tabs, and keep go-to tools within easy reach.\\r\\n\\r\\n🕵️\\u200d♂️ Private browsing\\r\\nKeep your browsing history discreet using incognito private tabs – searches, sites visited, cookies and temporary files won\\'t be stored by Vivaldi. \\r\\n\\r\\n🛠 Manage tabs with ease\\r\\nQuickly swipe to find open tabs, private incognito tabs and tabs you’ve recently closed in the browser or have open on another synced device. \\r\\n\\r\\n🔄 Bring your data with you\\r\\nSecurely sync your passwords, Bookmarks, Notes and keep your browsing data private between devices using end-to-end encryption with own servers in Iceland.\\r\\n\\r\\n🏃\\u200d♀️ Get there faster\\r\\nKeep your favorite sites just a tap away and browse faster by adding custom Speed Dials to the new tab page.\\r\\n\\r\\n📝 Take notes\\r\\nJot down ideas by creating Notes as you browse the web and sync them securely between your devices.\\r\\n\\r\\n📸 Snap screenshots\\r\\nCapture a full-length screenshot of any website or take a snap of the visible area of any webpage while browsing. Share away. \\r\\n\\r\\n🔎 Switch search engines instantly\\r\\nUse search engine nicknames to quickly swap search engines while typing in Vivaldi’s Address Field. For example, type \"d\" to select DuckDuckGo or \"w\" for Wikipedia.\\r\\n\\r\\n🕹 Have fun and play Vivaldia\\r\\nVivaldia is a real 80s-style arcade runner game built into the Vivaldi browser. Play it both online and offline on your mobile and desktop. Includes gamepad support.\\r\\n\\r\\nVivaldi Browser features\\r\\n• Free Private Browser\\r\\n• Encrypted sync\\r\\n• Ad blocker\\r\\n• Screen capture\\r\\n• Speed dial shortcuts for favorites\\r\\n• Notes with rich text support\\r\\n• Private tabs\\r\\n• Dark mode\\r\\n• Bookmarks manager\\r\\n• Recently closed tabs\\r\\n• Search engine nicknames\\r\\n• Reader mode\\r\\n• Clone tab\\r\\n• Downloads manager\\r\\n\\r\\nDownload for free and browse faster with the new Vivaldi web browser. Leave a review about the browser and its features and let us know what you think. \\r\\n\\r\\nAbout Vivaldi Web Browser\\r\\nWe believe that many people want to customize and tweak every square inch of their web browser to make it their own. They want to access useful tools without sacrificing speed, privacy or security. And they want to be heard.\\r\\n\\r\\nThat\\'s why we’re building a browser that is fast, powerful and flexible. A browser that respects your privacy and does not track you. A browser that adapts to you, not the other way around. \\r\\n\\r\\nVivaldi web browser is also available for free on desktops running Windows, macOS, and Linux. \\r\\n\\r\\nLearn more about Vivaldi browser and our mission by visiting https://vivaldi.com',\n",
       "       \"Tired of being tracked online? We can help. At DuckDuckGo, we believe online privacy should be simple.\\r\\n\\r\\nDuckDuckGo Privacy Browser has the speed you need, the browsing features you expect (like tabs & bookmarks), and comes packed with best-in-class privacy essentials:\\r\\n\\r\\nTap Fire Button, Burn Data — clear all your tabs and browsing data with one tap. \\r\\n\\r\\nEscape Online Tracking — automatically block hidden third-party trackers we can find lurking on websites you visit, which stops the companies behind those trackers from collecting and selling your data. \\r\\n\\r\\nSearch Privately — our private search engine comes built-in so you can search the Internet without being tracked.\\r\\n\\r\\nEnforce Encryption — force sites to use an encrypted (HTTPS) connection where available, protecting your data from prying eyes, like from unwanted snoopers and Internet service providers.\\r\\n\\r\\nDecode Privacy — each site you visit gets a Privacy Grade (A-F) so you can see how protected you are at a glance, and you can even dig into the details to see who we caught trying to track you. \\r\\n\\r\\nSignal Your Privacy Preference with GPC\\xa0— with Global Privacy Control (GPC) built in, you'll invoke your legal privacy rights (e.g., under CCPA, GDPR) by telling websites not to sell or share your personal data by default.\\r\\n\\r\\nPrivacy, simplified.\\r\\n\\r\\nAbout Us: https://duckduckgo.com/about/\\r\\nDevice Privacy: https://spreadprivacy.com/tag/device-privacy-tips/ \\r\\nPrivacy Newsletter: https://duckduckgo.com/newsletter \\r\\nPrivacy Policy: https://duckduckgo.com/privacy/\\r\\nOpen Source: https://github.com/duckduckgo/Android\",\n",
       "       'Tired of being tracked online? We can help. At DuckDuckGo, we believe online privacy should be simple.\\r\\n\\r\\nDuckDuckGo Privacy Browser has the speed you need, the browsing features you expect (like tabs & bookmarks), and comes packed with best-in-class privacy essentials:\\r\\n\\r\\nTap Fire Button, Burn Data — clear all your tabs and browsing data with one tap. \\r\\n\\r\\nEscape Online Tracking — automatically block hidden third-party trackers we can find lurking on websites you visit, which stops the companies behind those trackers from collecting and selling your data. \\r\\n\\r\\nSearch Privately — our private search engine comes built-in so you can search the Internet without being tracked.\\r\\n\\r\\nEnforce Encryption — force sites to use an encrypted (HTTPS) connection where available, protecting your data from prying eyes, like from unwanted snoopers and Internet service providers.\\r\\n\\r\\nDecode Privacy — each site you visit gets a Privacy Grade (A-F) so you can see how protected you are at a glance, and you can even dig into the details to see who we caught trying to track you. \\r\\n\\r\\nPrivacy, simplified.\\r\\n\\r\\nAbout Us: https://duckduckgo.com/about/\\r\\nDevice Privacy: https://spreadprivacy.com/tag/device-privacy-tips/ \\r\\nPrivacy Newsletter: https://duckduckgo.com/newsletter \\r\\nPrivacy Policy: https://duckduckgo.com/privacy/\\r\\nOpen Source: https://github.com/duckduckgo/Android',\n",
       "       'Phoenix Browser is a fast, safe web browser for your Android device, featuring a local news feed and FREE movie resources.\\r\\n\\r\\n✪Main features✪\\r\\n\\r\\nPhoenix browser loads your webpages 2x faster, Saves 90% of your data and enables smooth browsing on slow networks, Downloads all-format videos and social media clips at lightning speed. \\r\\n\\r\\n★Fast Browsing and Downloads: Access websites, download multiple files (videos, audio, documents and more) with the speed of light. Download online videos easily from lots of websites: Facebook、Instagram and etc.\\r\\n\\r\\n★Smart Video Downloader and Video Player: Automatically detects videos from any website for you to download in one click. Optimized video player for the best watching experience.\\r\\n\\r\\n★WhatsApp Status Saver plugin: Save your friends whatsapp status easily and safely.\\r\\n\\r\\n★Powerful File Manager\\r\\nEasily WhatsApp status saving and powerful file manager. Support more than 50 file formats, such as word, excel, ppt, pdf, etc. \\r\\n\\r\\n★Ad Block: Block annoying adverts and popups, save time and increase loading speed.\\r\\n\\r\\n★Data Saver: Stream movies, download files, browse more with less data on any website.\\r\\n \\r\\nFeatures:\\r\\n★Super Downloader\\r\\nPhoenix Browser can automatically detect downloadable videos with the smart detection function while you browse the web, which allows you to download and save online videos from almost every website. You can also download through BitTorrent and Magnet. With a download icon in the website, Phoenix Browser will inform the user whether there are online videos that the user can download or not. It’s very simple to download videos by using the smart download function. (!!!Download on YouTube is not available due to the policy of Google!!!)\\r\\n  \\r\\n★Incognito Browsing\\r\\nIncognito tab makes your browsing experience perfectly private without leaving any history, cookies, cache, etc. \\r\\n \\r\\n★Ad Block\\r\\nAd Block blocks various forms of annoying ads, pop-ups and banners to make your browsing comfortable. It not only speeds up the page loading speed but also reduces Internet data usage.\\r\\n \\r\\n★Bookmarks/History\\r\\nBookmarks help save your favorite websites and provide quick navigation for revisiting later on. History list helps with recollection. Both will save you time looking for your favorite websites.\\r\\n \\r\\n★Data Saving\\r\\nPhoenix Browser could compress data, speed up navigation and help you save a lot of cellular data traffic. \\r\\n \\r\\n★Add To Shortcut\\r\\nAdd your favorite websites like Facebook, Twitter, Instagram, YouTube, Amazon, Wikipedia, etc., for quick access.\\r\\n  \\r\\n★Built-in Video Player\\r\\nThe built-in video player provides a one-stop service from video downloading to video playing. You can watch videos directly without exiting the app.\\r\\n \\r\\n★Search Engines\\r\\nSwitch search engines according to your preference. We support Google, Yahoo, Ask, Yandex, AOL, DuckDuckGo and Bing.\\r\\n \\r\\n★Multi-Tab Manager\\r\\nEasy switching of pages from multiple websites. Using multi-tab manager will make your browsing experience smoother.\\r\\n \\r\\n★No Image Mode\\r\\nNo Image Mode disables image and video loading to save data on a poor network connection.\\r\\n \\r\\n★Night/Bright Mode\\r\\nNight Mode protects your eyes when browsing in darkness. Bright mode prevents the screen from going dark.\\r\\n \\r\\n★Switch to PC Website\\r\\nSupport cross-device browsing, i.e. from mobile to PC browser mode.\\r\\n  \\r\\n★Find in Page/Translate\\r\\nSearch to find whatever you need in website pages, and translation function is supported.\\r\\n \\r\\nFacebook Fan Page\\r\\nhttps://www.facebook.com/PhoenixBrowser/'],\n",
       "      dtype=object)"
      ]
     },
     "execution_count": 42,
     "metadata": {},
     "output_type": "execute_result"
    }
   ],
   "source": [
    "df['Long Description'].unique()"
   ]
  },
  {
   "cell_type": "markdown",
   "metadata": {},
   "source": [
    "Convert categorical data into numerical data using LabelEncoding"
   ]
  },
  {
   "cell_type": "code",
   "execution_count": 44,
   "metadata": {},
   "outputs": [],
   "source": [
    "from sklearn.preprocessing import LabelEncoder\n",
    "le=LabelEncoder()"
   ]
  },
  {
   "cell_type": "code",
   "execution_count": 60,
   "metadata": {},
   "outputs": [
    {
     "data": {
      "text/html": [
       "<div>\n",
       "<style scoped>\n",
       "    .dataframe tbody tr th:only-of-type {\n",
       "        vertical-align: middle;\n",
       "    }\n",
       "\n",
       "    .dataframe tbody tr th {\n",
       "        vertical-align: top;\n",
       "    }\n",
       "\n",
       "    .dataframe thead th {\n",
       "        text-align: right;\n",
       "    }\n",
       "</style>\n",
       "<table border=\"1\" class=\"dataframe\">\n",
       "  <thead>\n",
       "    <tr style=\"text-align: right;\">\n",
       "      <th></th>\n",
       "      <th>ID</th>\n",
       "      <th>Keyword</th>\n",
       "      <th>Rank</th>\n",
       "      <th>Country</th>\n",
       "      <th>Language</th>\n",
       "      <th>Date</th>\n",
       "      <th>App ID</th>\n",
       "      <th>Date of Last Description Change</th>\n",
       "      <th>Short Description</th>\n",
       "      <th>Long Description</th>\n",
       "    </tr>\n",
       "  </thead>\n",
       "  <tbody>\n",
       "    <tr>\n",
       "      <th>1</th>\n",
       "      <td>1</td>\n",
       "      <td>3</td>\n",
       "      <td>2</td>\n",
       "      <td>0</td>\n",
       "      <td>en</td>\n",
       "      <td>16-12-2020</td>\n",
       "      <td>7</td>\n",
       "      <td>18-12-2020</td>\n",
       "      <td>8</td>\n",
       "      <td>2</td>\n",
       "    </tr>\n",
       "    <tr>\n",
       "      <th>2</th>\n",
       "      <td>2</td>\n",
       "      <td>3</td>\n",
       "      <td>3</td>\n",
       "      <td>0</td>\n",
       "      <td>en</td>\n",
       "      <td>16-12-2020</td>\n",
       "      <td>0</td>\n",
       "      <td>18-12-2020</td>\n",
       "      <td>3</td>\n",
       "      <td>1</td>\n",
       "    </tr>\n",
       "    <tr>\n",
       "      <th>3</th>\n",
       "      <td>3</td>\n",
       "      <td>3</td>\n",
       "      <td>4</td>\n",
       "      <td>0</td>\n",
       "      <td>en</td>\n",
       "      <td>16-12-2020</td>\n",
       "      <td>4</td>\n",
       "      <td>27-02-2021</td>\n",
       "      <td>2</td>\n",
       "      <td>0</td>\n",
       "    </tr>\n",
       "    <tr>\n",
       "      <th>4</th>\n",
       "      <td>3</td>\n",
       "      <td>3</td>\n",
       "      <td>4</td>\n",
       "      <td>0</td>\n",
       "      <td>en</td>\n",
       "      <td>16-12-2020</td>\n",
       "      <td>4</td>\n",
       "      <td>18-12-2020</td>\n",
       "      <td>2</td>\n",
       "      <td>3</td>\n",
       "    </tr>\n",
       "    <tr>\n",
       "      <th>5</th>\n",
       "      <td>4</td>\n",
       "      <td>3</td>\n",
       "      <td>1</td>\n",
       "      <td>0</td>\n",
       "      <td>en</td>\n",
       "      <td>16-12-2020</td>\n",
       "      <td>2</td>\n",
       "      <td>07-02-2021</td>\n",
       "      <td>6</td>\n",
       "      <td>9</td>\n",
       "    </tr>\n",
       "  </tbody>\n",
       "</table>\n",
       "</div>"
      ],
      "text/plain": [
       "  ID  Keyword  Rank  Country Language        Date  App ID  \\\n",
       "1  1        3     2        0       en  16-12-2020       7   \n",
       "2  2        3     3        0       en  16-12-2020       0   \n",
       "3  3        3     4        0       en  16-12-2020       4   \n",
       "4  3        3     4        0       en  16-12-2020       4   \n",
       "5  4        3     1        0       en  16-12-2020       2   \n",
       "\n",
       "  Date of Last Description Change  Short Description  Long Description  \n",
       "1                      18-12-2020                  8                 2  \n",
       "2                      18-12-2020                  3                 1  \n",
       "3                      27-02-2021                  2                 0  \n",
       "4                      18-12-2020                  2                 3  \n",
       "5                      07-02-2021                  6                 9  "
      ]
     },
     "execution_count": 60,
     "metadata": {},
     "output_type": "execute_result"
    }
   ],
   "source": [
    "list1=['Short Description','Long Description','App ID','Country','Keyword']\n",
    "for i in list1:\n",
    "    df[i]=le.fit_transform(df[i])\n",
    "\n",
    "df.head()"
   ]
  },
  {
   "cell_type": "markdown",
   "metadata": {},
   "source": [
    "Now perform the correlation between rank and short description"
   ]
  },
  {
   "cell_type": "code",
   "execution_count": 47,
   "metadata": {},
   "outputs": [],
   "source": [
    "correlation=df['Rank'].corr(df['Short Description'])"
   ]
  },
  {
   "cell_type": "code",
   "execution_count": 48,
   "metadata": {},
   "outputs": [
    {
     "data": {
      "text/plain": [
       "-0.21925912074234402"
      ]
     },
     "execution_count": 48,
     "metadata": {},
     "output_type": "execute_result"
    }
   ],
   "source": [
    "correlation"
   ]
  },
  {
   "cell_type": "code",
   "execution_count": 50,
   "metadata": {},
   "outputs": [],
   "source": [
    "correlation1=df['Rank'].corr(df['App ID'])"
   ]
  },
  {
   "cell_type": "code",
   "execution_count": 51,
   "metadata": {},
   "outputs": [
    {
     "data": {
      "text/plain": [
       "0.5205850606822875"
      ]
     },
     "execution_count": 51,
     "metadata": {},
     "output_type": "execute_result"
    }
   ],
   "source": [
    "correlation1"
   ]
  },
  {
   "cell_type": "code",
   "execution_count": 61,
   "metadata": {},
   "outputs": [
    {
     "data": {
      "text/html": [
       "<div>\n",
       "<style scoped>\n",
       "    .dataframe tbody tr th:only-of-type {\n",
       "        vertical-align: middle;\n",
       "    }\n",
       "\n",
       "    .dataframe tbody tr th {\n",
       "        vertical-align: top;\n",
       "    }\n",
       "\n",
       "    .dataframe thead th {\n",
       "        text-align: right;\n",
       "    }\n",
       "</style>\n",
       "<table border=\"1\" class=\"dataframe\">\n",
       "  <thead>\n",
       "    <tr style=\"text-align: right;\">\n",
       "      <th></th>\n",
       "      <th>Keyword</th>\n",
       "      <th>Rank</th>\n",
       "      <th>Country</th>\n",
       "      <th>App ID</th>\n",
       "      <th>Short Description</th>\n",
       "      <th>Long Description</th>\n",
       "    </tr>\n",
       "  </thead>\n",
       "  <tbody>\n",
       "    <tr>\n",
       "      <th>Keyword</th>\n",
       "      <td>1.000000</td>\n",
       "      <td>0.102146</td>\n",
       "      <td>NaN</td>\n",
       "      <td>0.067906</td>\n",
       "      <td>-0.206424</td>\n",
       "      <td>0.181591</td>\n",
       "    </tr>\n",
       "    <tr>\n",
       "      <th>Rank</th>\n",
       "      <td>0.102146</td>\n",
       "      <td>1.000000</td>\n",
       "      <td>NaN</td>\n",
       "      <td>0.520585</td>\n",
       "      <td>-0.219259</td>\n",
       "      <td>0.332942</td>\n",
       "    </tr>\n",
       "    <tr>\n",
       "      <th>Country</th>\n",
       "      <td>NaN</td>\n",
       "      <td>NaN</td>\n",
       "      <td>NaN</td>\n",
       "      <td>NaN</td>\n",
       "      <td>NaN</td>\n",
       "      <td>NaN</td>\n",
       "    </tr>\n",
       "    <tr>\n",
       "      <th>App ID</th>\n",
       "      <td>0.067906</td>\n",
       "      <td>0.520585</td>\n",
       "      <td>NaN</td>\n",
       "      <td>1.000000</td>\n",
       "      <td>-0.072573</td>\n",
       "      <td>0.124045</td>\n",
       "    </tr>\n",
       "    <tr>\n",
       "      <th>Short Description</th>\n",
       "      <td>-0.206424</td>\n",
       "      <td>-0.219259</td>\n",
       "      <td>NaN</td>\n",
       "      <td>-0.072573</td>\n",
       "      <td>1.000000</td>\n",
       "      <td>-0.513976</td>\n",
       "    </tr>\n",
       "    <tr>\n",
       "      <th>Long Description</th>\n",
       "      <td>0.181591</td>\n",
       "      <td>0.332942</td>\n",
       "      <td>NaN</td>\n",
       "      <td>0.124045</td>\n",
       "      <td>-0.513976</td>\n",
       "      <td>1.000000</td>\n",
       "    </tr>\n",
       "  </tbody>\n",
       "</table>\n",
       "</div>"
      ],
      "text/plain": [
       "                    Keyword      Rank  Country    App ID  Short Description  \\\n",
       "Keyword            1.000000  0.102146      NaN  0.067906          -0.206424   \n",
       "Rank               0.102146  1.000000      NaN  0.520585          -0.219259   \n",
       "Country                 NaN       NaN      NaN       NaN                NaN   \n",
       "App ID             0.067906  0.520585      NaN  1.000000          -0.072573   \n",
       "Short Description -0.206424 -0.219259      NaN -0.072573           1.000000   \n",
       "Long Description   0.181591  0.332942      NaN  0.124045          -0.513976   \n",
       "\n",
       "                   Long Description  \n",
       "Keyword                    0.181591  \n",
       "Rank                       0.332942  \n",
       "Country                         NaN  \n",
       "App ID                     0.124045  \n",
       "Short Description         -0.513976  \n",
       "Long Description           1.000000  "
      ]
     },
     "execution_count": 61,
     "metadata": {},
     "output_type": "execute_result"
    }
   ],
   "source": [
    "corc=df.corr()\n",
    "corc"
   ]
  },
  {
   "cell_type": "code",
   "execution_count": 72,
   "metadata": {},
   "outputs": [],
   "source": [
    "# There is a negative correlation between short description and long description i.e -0.5  \n",
    "#  APP ID and rank have a positive correlation of o.5 so there app id may play  a role for ranking\n",
    "# "
   ]
  },
  {
   "cell_type": "code",
   "execution_count": null,
   "metadata": {},
   "outputs": [],
   "source": []
  }
 ],
 "metadata": {
  "kernelspec": {
   "display_name": "Python 3",
   "language": "python",
   "name": "python3"
  },
  "language_info": {
   "codemirror_mode": {
    "name": "ipython",
    "version": 3
   },
   "file_extension": ".py",
   "mimetype": "text/x-python",
   "name": "python",
   "nbconvert_exporter": "python",
   "pygments_lexer": "ipython3",
   "version": "3.7.6"
  }
 },
 "nbformat": 4,
 "nbformat_minor": 4
}
