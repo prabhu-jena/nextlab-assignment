{
 "cells": [
  {
   "cell_type": "code",
   "execution_count": 1,
   "metadata": {},
   "outputs": [],
   "source": [
    "import numpy as np\n",
    "import pandas as pd"
   ]
  },
  {
   "cell_type": "code",
   "execution_count": 3,
   "metadata": {},
   "outputs": [
    {
     "name": "stdout",
     "output_type": "stream",
     "text": [
      "{\"orders\":[{\"id\":},{\"id\":},{\"id\":},{\"id\":},{\"id\":},{\"id\":},{\"id\":},{\"id\":},{\"id\":},{\"id\":},{\"id\":},{\"i\n",
      "d\":},{\"id\":},{\"id\":},{\"id\":},{\"id\":},{\"id\":}],\"errors\":[{\"code\":,\"message\":\"[PHP\n",
      "Warning #2] count(): Parameter must be an array or an object that implements Countable\n",
      "(153)\"}]}\n"
     ]
    }
   ],
   "source": [
    "\n",
    "\n",
    "import re\n",
    "\n",
    "regex = r\"(?<=:)\\d+\"\n",
    "\n",
    "test_str = (\"{\\\"orders\\\":[{\\\"id\\\":1},{\\\"id\\\":2},{\\\"id\\\":3},{\\\"id\\\":4},{\\\"id\\\":5},{\\\"id\\\":6},{\\\"id\\\":7},{\\\"id\\\":8},{\\\"id\\\":9},{\\\"id\\\":10},{\\\"id\\\":11},{\\\"i\\n\"\n",
    "\t\"d\\\":648},{\\\"id\\\":649},{\\\"id\\\":650},{\\\"id\\\":651},{\\\"id\\\":652},{\\\"id\\\":653}],\\\"errors\\\":[{\\\"code\\\":3,\\\"message\\\":\\\"[PHP\\n\"\n",
    "\t\"Warning #2] count(): Parameter must be an array or an object that implements Countable\\n\"\n",
    "\t\"(153)\\\"}]}\")\n",
    "\n",
    "subst = \"\"\n",
    "\n",
    "# You can manually specify the number of replacements by changing the 4th argument\n",
    "result = re.sub(regex, subst, test_str, 0, re.MULTILINE)\n",
    "\n",
    "if result:\n",
    "    print (result)\n"
   ]
  },
  {
   "cell_type": "code",
   "execution_count": null,
   "metadata": {},
   "outputs": [],
   "source": []
  }
 ],
 "metadata": {
  "kernelspec": {
   "display_name": "Python 3",
   "language": "python",
   "name": "python3"
  },
  "language_info": {
   "codemirror_mode": {
    "name": "ipython",
    "version": 3
   },
   "file_extension": ".py",
   "mimetype": "text/x-python",
   "name": "python",
   "nbconvert_exporter": "python",
   "pygments_lexer": "ipython3",
   "version": "3.7.6"
  }
 },
 "nbformat": 4,
 "nbformat_minor": 4
}
